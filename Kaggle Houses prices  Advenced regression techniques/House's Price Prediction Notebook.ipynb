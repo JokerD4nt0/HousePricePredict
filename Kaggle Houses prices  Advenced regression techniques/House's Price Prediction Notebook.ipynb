{
 "cells": [
  {
   "cell_type": "markdown",
   "metadata": {},
   "source": [
    "Kaggle House prices : Advenced regression techniques\n"
   ]
  },
  {
   "cell_type": "code",
   "execution_count": 39,
   "metadata": {},
   "outputs": [],
   "source": [
    "import pandas as pd\n",
    "import numpy as np\n",
    "import seaborn as sbµ"
   ]
  },
  {
   "cell_type": "code",
   "execution_count": 40,
   "metadata": {
    "scrolled": true
   },
   "outputs": [],
   "source": [
    "df_train = pd.read_csv(\"train.csv\")\n",
    "\n",
    "#df_prix = df_train[\"SalePrice\"]\n",
    "#df_train = df_train.drop([\"SalePrice\"], axis = 1)\n",
    "\n",
    "#df_train.info()"
   ]
  },
  {
   "cell_type": "code",
   "execution_count": 41,
   "metadata": {},
   "outputs": [],
   "source": [
    "#Valeurs manquantes pour les colonnes LotFrontage, Alley, YearRemodAdd, MasVnrType, MasVnrArea, BsmtQual, BsmtCond, \n",
    "#BsmtExposure ,BsmtFinType1, BsmtFinType2, Electrical, FireplaceQu, GarageType, GarageYrBlt, GarageFinish, GarageQual       \n",
    "#GarageCond, PoolQC, Fence, MiscFeature\n",
    "\n",
    "#df_train.dtypes\n",
    "#+34 variables sont de types objets\n",
    "\n",
    "#les variables :\n",
    "##SalePrice - the property's sale price in dollars. This is the target variable that you're trying to predict.\n",
    "\n",
    "#MSSubClass: The building class\n",
    "#MSZoning: The general zoning classification\n",
    "#LotFrontage: Linear feet of street connected to property\n",
    "#LotArea: Lot size in square feet\n",
    "#Street: Type of road access\n",
    "#Alley: Type of alley access\n",
    "#LotShape: General shape of property\n",
    "#LandContour: Flatness of the property\n",
    "#Utilities: Type of utilities available\n",
    "#LotConfig: Lot configuration\n",
    "#LandSlope: Slope of property\n",
    "#Neighborhood: Physical locations within Ames city limits\n",
    "\n",
    "##Condition1: Proximity to main road or railroad\n",
    "\n",
    "#Condition2: Proximity to main road or railroad (if a second is present)\n",
    "#BldgType: Type of dwelling\n",
    "    \n",
    "##HouseStyle: Style of dwelling\n",
    "    \n",
    "#OverallQual: Overall material and finish quality\n",
    "#OverallCond: Overall condition rating\n",
    "    \n",
    "##YearBuilt: Original construction date\n",
    "##YearRemodAdd: Remodel date\n",
    "    \n",
    "#RoofStyle: Type of roof\n",
    "#RoofMatl: Roof material\n",
    "#Exterior1st: Exterior covering on house\n",
    "#Exterior2nd: Exterior covering on house (if more than one material)\n",
    "#MasVnrType: Masonry veneer type\n",
    "    \n",
    "##MasVnrArea: Masonry veneer area in square feet\n",
    "    \n",
    "#ExterQual: Exterior material quality\n",
    "#ExterCond: Present condition of the material on the exterior \n",
    "#Foundation: Type of foundation\n",
    "    \n",
    "##BsmtQual: Height of the basement\n",
    "    \n",
    "#BsmtCond: General condition of the basement\n",
    "#BsmtExposure: Walkout or garden level basement walls\n",
    "#BsmtFinType1: Quality of basement finished area\n",
    "#BsmtFinSF1: Type 1 finished square feet\n",
    "#BsmtFinType2: Quality of second finished area (if present)\n",
    "#BsmtFinSF2: Type 2 finished square feet\n",
    "#BsmtUnfSF: Unfinished square feet of basement area\n",
    "    \n",
    "##TotalBsmtSF: Total square feet of basement area\n",
    "##Heating: Type of heating\n",
    "    \n",
    "#HeatingQC: Heating quality and condition\n",
    "    \n",
    "##CentralAir: Central air conditioning\n",
    "##Electrical: Electrical system\n",
    "##1stFlrSF: First Floor square feet\n",
    "##2ndFlrSF: Second floor square feet\n",
    "    \n",
    "#LowQualFinSF: Low quality finished square feet (all floors)\n",
    "#GrLivArea: Above grade (ground) living area square feet\n",
    "#BsmtFullBath: Basement full bathrooms\n",
    "#BsmtHalfBath: Basement half bathrooms\n",
    "#FullBath: Full bathrooms above grade\n",
    "#HalfBath: Half baths above grade\n",
    "    \n",
    "##Bedroom: Number of bedrooms above basement level\n",
    "##Kitchen: Number of kitchens\n",
    "    \n",
    "#KitchenQual: Kitchen quality\n",
    "    \n",
    "##TotRmsAbvGrd: Total rooms above grade (does not include bathrooms)\n",
    "    \n",
    "#Functional: Home functionality rating\n",
    "#Fireplaces: Number of fireplaces\n",
    "#FireplaceQu: Fireplace quality\n",
    "    \n",
    "##GarageType: Garage location\n",
    "    \n",
    "#GarageYrBlt: Year garage was built\n",
    "#GarageFinish: Interior finish of the garage\n",
    "#GarageCars: Size of garage in car capacity\n",
    "#GarageArea: Size of garage in square feet\n",
    "#GarageQual: Garage quality\n",
    "#GarageCond: Garage condition\n",
    "    \n",
    "##PavedDrive: Paved driveway\n",
    "##WoodDeckSF: Wood deck area in square feet\n",
    "##OpenPorchSF: Open porch area in square feet\n",
    "##EnclosedPorch: Enclosed porch area in square feet\n",
    "##3SsnPorch: Three season porch area in square feet\n",
    "##ScreenPorch: Screen porch area in square feet\n",
    "##PoolArea: Pool area in square feet\n",
    "    \n",
    "#PoolQC: Pool quality\n",
    "    \n",
    "##Fence: Fence quality\n",
    "    \n",
    "#MiscFeature: Miscellaneous feature not covered in other categories\n",
    "#MiscVal: $Value of miscellaneous feature\n",
    "#MoSold: Month Sold\n",
    "\n",
    "##YrSold: Year Sold\n",
    "\n",
    "#SaleType: Type of sale\n",
    "#SaleCondition: Condition of sale\n"
   ]
  },
  {
   "cell_type": "code",
   "execution_count": 42,
   "metadata": {},
   "outputs": [],
   "source": [
    "#sb.heatmap(df_train.corr(), annot=True)\n",
    "\n",
    "#matrice difficielement lisible tel quel (80 variables)\n",
    "#Je choisi arbitrairement de conserver 30 variables et de supprimer les autres :\n",
    "\n",
    "#MSSubClass: The building class\n",
    "#MSZoning: The general zoning classification\n",
    "#LotFrontage: Linear feet of street connected to property\n",
    "#LotArea: Lot size in square feet\n",
    "#Street: Type of road access\n",
    "#Alley: Type of alley access\n",
    "#LotShape: General shape of property\n",
    "#LandContour: Flatness of the property\n",
    "#Utilities: Type of utilities available\n",
    "#LotConfig: Lot configuration\n",
    "#LandSlope: Slope of property\n",
    "#Neighborhood: Physical locations within Ames city limits\n",
    "#Condition2: Proximity to main road or railroad (if a second is present)\n",
    "#BldgType: Type of dwelling\n",
    "#OverallQual: Overall material and finish quality\n",
    "#OverallCond: Overall condition rating\n",
    "#RoofStyle: Type of roof\n",
    "#RoofMatl: Roof material\n",
    "#Exterior1st: Exterior covering on house\n",
    "#Exterior2nd: Exterior covering on house (if more than one material)\n",
    "#MasVnrType: Masonry veneer type\n",
    "#ExterQual: Exterior material quality\n",
    "#ExterCond: Present condition of the material on the exterior \n",
    "#Foundation: Type of foundation\n",
    "#BsmtCond: General condition of the basement\n",
    "#BsmtExposure: Walkout or garden level basement walls\n",
    "#BsmtFinType1: Quality of basement finished area\n",
    "#BsmtFinSF1: Type 1 finished square feet\n",
    "#BsmtFinType2: Quality of second finished area (if present)\n",
    "#BsmtFinSF2: Type 2 finished square feet\n",
    "#BsmtUnfSF: Unfinished square feet of basement area\n",
    "#HeatingQC: Heating quality and condition\n",
    "#LowQualFinSF: Low quality finished square feet (all floors)\n",
    "#GrLivArea: Above grade (ground) living area square feet\n",
    "#BsmtFullBath: Basement full bathrooms\n",
    "#BsmtHalfBath: Basement half bathrooms\n",
    "#FullBath: Full bathrooms above grade\n",
    "#HalfBath: Half baths above grade\n",
    "#KitchenQual: Kitchen quality\n",
    "#Functional: Home functionality rating\n",
    "#Fireplaces: Number of fireplaces\n",
    "#FireplaceQu: Fireplace quality\n",
    "#GarageYrBlt: Year garage was built\n",
    "#GarageFinish: Interior finish of the garage\n",
    "#GarageCars: Size of garage in car capacity\n",
    "#GarageArea: Size of garage in square feet\n",
    "#GarageQual: Garage quality\n",
    "#GarageCond: Garage condition\n",
    "#PoolQC: Pool quality\n",
    "#MiscFeature: Miscellaneous feature not covered in other categories\n",
    "#MiscVal: $Value of miscellaneous feature\n",
    "#MoSold: Month Sold\n",
    "#SaleType: Type of sale\n",
    "#SaleCondition: Condition of sale\n",
    "\n",
    "df_train = df_train.drop([\"MSSubClass\",\"MSZoning\",\"LotFrontage\",\"LotArea\",\"Street\",\"Alley\",\"LotShape\",\"LandContour\",\n",
    "                          \"Utilities\",\"LotConfig\",\"LandSlope\",\"Neighborhood\",\"Condition2\",\"BldgType\",\"OverallQual\",\n",
    "                         \"OverallCond\",\"RoofStyle\",\"RoofMatl\",\"Exterior1st\",\"Exterior2nd\",\"MasVnrType\",\"ExterQual\",\n",
    "                         \"ExterCond\",\"Foundation\",\"BsmtCond\",\"BsmtExposure\",\"BsmtFinType1\",\"BsmtFinSF1\",\"BsmtFinType2\",\n",
    "                         \"BsmtFinSF2\",\"BedroomAbvGr\",\"KitchenAbvGr\",\"BsmtUnfSF\",\"HeatingQC\",\"LowQualFinSF\",\"GrLivArea\",\"BsmtFullBath\",\"BsmtHalfBath\",\n",
    "                         \"FullBath\",\"HalfBath\",\"KitchenQual\",\"Functional\",\"Fireplaces\",\"FireplaceQu\",\"GarageYrBlt\",\n",
    "                         \"GarageFinish\",\"GarageCars\",\"GarageArea\",\"GarageQual\",\"GarageCond\",\"PoolQC\",\"MiscFeature\",\n",
    "                         \"MiscVal\",\"MoSold\",\"SaleType\",\"SaleCondition\"], axis = 1)\n",
    "# A n'éxécuter qu'une fois"
   ]
  },
  {
   "cell_type": "code",
   "execution_count": 43,
   "metadata": {},
   "outputs": [],
   "source": [
    "# Listes des variables qu'on conserve :\n",
    "\n",
    "##SalePrice - the property's sale price in dollars. This is the target variable that you're trying to predict.\n",
    "##Condition1: Proximity to main road or railroad\n",
    "##HouseStyle: Style of dwelling\n",
    "##YearBuilt: Original construction date\n",
    "##YearRemodAdd: Remodel date\n",
    "##MasVnrArea: Masonry veneer area in square feet\n",
    "##BsmtQual: Height of the basement\n",
    "##TotalBsmtSF: Total square feet of basement area\n",
    "##Heating: Type of heating\n",
    "##CentralAir: Central air conditioning\n",
    "##Electrical: Electrical system\n",
    "##1stFlrSF: First Floor square feet\n",
    "##2ndFlrSF: Second floor square feet\n",
    "##Bedroom: Number of bedrooms above basement level\n",
    "##Kitchen: Number of kitchens\n",
    "##TotRmsAbvGrd: Total rooms above grade (does not include bathrooms)\n",
    "##GarageType: Garage location\n",
    "##PavedDrive: Paved driveway\n",
    "##WoodDeckSF: Wood deck area in square feet\n",
    "##OpenPorchSF: Open porch area in square feet\n",
    "##EnclosedPorch: Enclosed porch area in square feet\n",
    "##3SsnPorch: Three season porch area in square feet\n",
    "##ScreenPorch: Screen porch area in square feet\n",
    "##PoolArea: Pool area in square feet\n",
    "##Fence: Fence quality\n",
    "##YrSold: Year Sold"
   ]
  },
  {
   "cell_type": "code",
   "execution_count": 44,
   "metadata": {},
   "outputs": [],
   "source": [
    "#On renomme les variables :\n",
    "\n",
    "df_train = df_train.rename(index=str, columns={\"Condition1\" : \"TypeAcces\", \n",
    "                                 \"HouseStyle\" : \"StyleStructure\",\n",
    "                                 \"YearBuilt\" : \"AnneeConstruction\",\n",
    "                                 \"YearRemodAdd\" : \"AnneeRenovation\",\n",
    "                                \"MasVnrArea\" : \"SurfaceBrique\",\n",
    "                                \"BsmtQual\" : \"HauteurMaison\",\n",
    "                                \"TotalBsmtSF\" : \"SurfaceMaison\",\n",
    "                                \"Heating\" : \"TypeChauffage\",\n",
    "                                \"CentralAir\" : \"Climatiseur\",\n",
    "                                \"Electrica l\" : \"SystemeElectrique\",\n",
    "                                \"1stFlrSF\" : \"Surface1E\",\n",
    "                                \"2ndFlrSF\" : \"Surface2E\",\n",
    "                                \"Bedroom\" : \"NbChambres\",\n",
    "                                \"Kitchen\" : \"NbCuisines\",\n",
    "                                \"TotRmsAbvGrd\" : \"NbTotChambres\",\n",
    "                                \"GarageType\" : \"EmplacementGarage\",\n",
    "                                \"PavedDrive\" : \"RoutePavee\",\n",
    "                                \"WoodDeckSF\" : \"SurfaceCoureBois\",\n",
    "                                \"OpenPorchSF\" : \"SurfacePorcheExt\",\n",
    "                                \"EnclosedPorch\" : \"SurfacePorcheInt\",\n",
    "                                \"3SsnPorch\" : \"SurfacePorche3saisons\",\n",
    "                                \"ScreenPorch\" : \"SurfaceVerenda\",\n",
    "                                \"PoolArea\" : \"SurfacePiscine\",\n",
    "                                \"Fence\" : \"QualiteCloture\",\n",
    "                                \"YrSold\" : \"AnneeVente\",\n",
    "                                \"SalePrice\" : \"PrixVente\"})"
   ]
  },
  {
   "cell_type": "code",
   "execution_count": null,
   "metadata": {},
   "outputs": [],
   "source": []
  },
  {
   "cell_type": "code",
   "execution_count": null,
   "metadata": {
    "scrolled": false
   },
   "outputs": [],
   "source": []
  },
  {
   "cell_type": "code",
   "execution_count": 45,
   "metadata": {},
   "outputs": [
    {
     "name": "stdout",
     "output_type": "stream",
     "text": [
      "Type Acces : \n",
      "  ['Norm' 'Feedr' 'PosN' 'Artery' 'RRAe' 'RRNn' 'RRAn' 'PosA' 'RRNe'] \n",
      "\n",
      "StyleStructure : \n",
      " ['2Story' '1Story' '1.5Fin' '1.5Unf' 'SFoyer' 'SLvl' '2.5Unf' '2.5Fin'] \n",
      "\n",
      "HauteurMaison : \n",
      " ['Gd' 'TA' 'Ex' 'NA' 'Fa'] \n",
      "\n",
      "TypeChauffage : \n",
      " ['GasA' 'GasW' 'Grav' 'Wall' 'OthW' 'Floor'] \n",
      "\n",
      "Climatiseur : \n",
      " ['Y' 'N'] \n",
      "\n",
      "Electrical : \n",
      " ['SBrkr' 'FuseF' 'FuseA' 'FuseP' 'Mix' 'NA'] \n",
      "\n",
      "EmplacementGarage : \n",
      " ['Attchd' 'Detchd' 'BuiltIn' 'CarPort' 'NA' 'Basment' '2Types'] \n",
      "\n",
      "RoutePavee : \n",
      " ['Y' 'N' 'P'] \n",
      "\n",
      "QualiteCloture : \n",
      " ['NA' 'MnPrv' 'GdWo' 'GdPrv' 'MnWw'] \n",
      "\n"
     ]
    }
   ],
   "source": [
    "#Remplacement des valeurs nan des colonnes concernées par un string \"NA\".\n",
    "df_train['EmplacementGarage'] = df_train['EmplacementGarage'].fillna(\"NA\")\n",
    "df_train['QualiteCloture'] = df_train['QualiteCloture'].fillna(\"NA\")\n",
    "df_train['Electrical'] = df_train['Electrical'].fillna(\"NA\")\n",
    "df_train['HauteurMaison'] = df_train['HauteurMaison'].fillna(\"NA\")\n",
    "\n",
    "#On remplace les valeurs nan de la colonne SurfaceBrique par des 0\n",
    "\n",
    "df_train['SurfaceBrique'] = df_train['SurfaceBrique'].fillna(0)\n",
    "\n",
    "\n",
    "print(\"Type Acces : \\n \",df_train[\"TypeAcces\"].unique(),\"\\n\")\n",
    "print(\"StyleStructure : \\n\",df_train[\"StyleStructure\"].unique(),\"\\n\")\n",
    "print(\"HauteurMaison : \\n\",df_train[\"HauteurMaison\"].unique(),\"\\n\")\n",
    "print(\"TypeChauffage : \\n\",df_train[\"TypeChauffage\"].unique(),\"\\n\")\n",
    "print(\"Climatiseur : \\n\",df_train[\"Climatiseur\"].unique(),\"\\n\")\n",
    "print(\"Electrical : \\n\",df_train[\"Electrical\"].unique(),\"\\n\")\n",
    "print(\"EmplacementGarage : \\n\",df_train[\"EmplacementGarage\"].unique(),\"\\n\")\n",
    "print(\"RoutePavee : \\n\",df_train[\"RoutePavee\"].unique(),\"\\n\")\n",
    "print(\"QualiteCloture : \\n\",df_train[\"QualiteCloture\"].unique(),\"\\n\")"
   ]
  },
  {
   "cell_type": "code",
   "execution_count": 46,
   "metadata": {},
   "outputs": [
    {
     "name": "stdout",
     "output_type": "stream",
     "text": [
      "<class 'pandas.core.frame.DataFrame'>\n",
      "Index: 1460 entries, 0 to 1459\n",
      "Data columns (total 25 columns):\n",
      "Id                       1460 non-null int64\n",
      "TypeAcces                1460 non-null object\n",
      "StyleStructure           1460 non-null object\n",
      "AnneeConstruction        1460 non-null int64\n",
      "AnneeRenovation          1460 non-null int64\n",
      "SurfaceBrique            1460 non-null float64\n",
      "HauteurMaison            1460 non-null object\n",
      "SurfaceMaison            1460 non-null int64\n",
      "TypeChauffage            1460 non-null object\n",
      "Climatiseur              1460 non-null object\n",
      "Electrical               1460 non-null object\n",
      "Surface1E                1460 non-null int64\n",
      "Surface2E                1460 non-null int64\n",
      "NbTotChambres            1460 non-null int64\n",
      "EmplacementGarage        1460 non-null object\n",
      "RoutePavee               1460 non-null object\n",
      "SurfaceCoureBois         1460 non-null int64\n",
      "SurfacePorcheExt         1460 non-null int64\n",
      "SurfacePorcheInt         1460 non-null int64\n",
      "SurfacePorche3saisons    1460 non-null int64\n",
      "SurfaceVerenda           1460 non-null int64\n",
      "SurfacePiscine           1460 non-null int64\n",
      "QualiteCloture           1460 non-null object\n",
      "AnneeVente               1460 non-null int64\n",
      "PrixVente                1460 non-null int64\n",
      "dtypes: float64(1), int64(15), object(9)\n",
      "memory usage: 296.6+ KB\n"
     ]
    }
   ],
   "source": [
    "df_train.info()"
   ]
  },
  {
   "cell_type": "code",
   "execution_count": 47,
   "metadata": {},
   "outputs": [],
   "source": [
    "def bar_chart(feature):\n",
    "    pricevhight = df_train[df_train['PrixVente'] > 400000][feature].value_counts()\n",
    "    pricehight = df_train[(df_train['PrixVente'] < 400000) & (df_train['PrixVente'] > 300000)][feature].value_counts()\n",
    "    pricemedium = df_train[(df_train['PrixVente'] < 300000) & (df_train['PrixVente'] > 200000)][feature].value_counts()\n",
    "    priceintermediate = df_train[(df_train['PrixVente'] < 200000) & (df_train['PrixVente'] > 150000)][feature].value_counts()\n",
    "    pricelow = df_train[(df_train['PrixVente'] < 150000) & (df_train['PrixVente'] > 100000)][feature].value_counts()\n",
    "    pricevlow = df_train[df_train['PrixVente'] < 100000][feature].value_counts()\n",
    "    df = pd.DataFrame([pricevhight,pricehight,pricemedium,priceintermediate,pricelow,pricevlow])\n",
    "    df.index = ['PrixTElevé','PrixElevé','PrixMoyen','PrixIntermédiaire','PrixFaible','PrixTFaible']\n",
    "    df.plot(kind='bar',stacked=True, figsize=(12,7))"
   ]
  },
  {
   "cell_type": "code",
   "execution_count": 48,
   "metadata": {},
   "outputs": [
    {
     "data": {
      "image/png": "[encoded data removed]",
      "text/plain": [
       "<matplotlib.figure.Figure at 0x1def51a8eb8>"
      ]
     },
     "metadata": {},
     "output_type": "display_data"
    }
   ],
   "source": [
    "bar_chart('StyleStructure')"
   ]
  },
  {
   "cell_type": "code",
   "execution_count": 49,
   "metadata": {},
   "outputs": [
    {
     "data": {
      "image/png": "[encoded data removed]",
      "text/plain": [
       "<matplotlib.figure.Figure at 0x1def544cd30>"
      ]
     },
     "metadata": {},
     "output_type": "display_data"
    }
   ],
   "source": [
    "bar_chart(\"EmplacementGarage\")"
   ]
  },
  {
   "cell_type": "code",
   "execution_count": 50,
   "metadata": {},
   "outputs": [],
   "source": [
    "#bar_chart(\"AnneeConstruction\")\n",
    "#dates à trier selon catégories"
   ]
  },
  {
   "cell_type": "code",
   "execution_count": 52,
   "metadata": {},
   "outputs": [],
   "source": [
    "#bar_chart(\"AnneeRenovation\")\n",
    "#idem"
   ]
  },
  {
   "cell_type": "code",
   "execution_count": 55,
   "metadata": {},
   "outputs": [
    {
     "data": {
      "image/png": "[encoded data removed]",
      "text/plain": [
       "<matplotlib.figure.Figure at 0x1def78dba58>"
      ]
     },
     "metadata": {},
     "output_type": "display_data"
    }
   ],
   "source": [
    "bar_chart(\"HauteurMaison\")"
   ]
  },
  {
   "cell_type": "code",
   "execution_count": 57,
   "metadata": {},
   "outputs": [],
   "source": [
    "#bar_chart(\"SurfaceMaison\")\n",
    "#surface à trier également"
   ]
  },
  {
   "cell_type": "code",
   "execution_count": 63,
   "metadata": {},
   "outputs": [],
   "source": [
    "#bar_chart(\"TypeChauffage\")\n",
    "#à supprimer sans doutes..."
   ]
  },
  {
   "cell_type": "code",
   "execution_count": 71,
   "metadata": {},
   "outputs": [],
   "source": [
    "#bar_chart(\"Climatiseur\")\n",
    "#la présence ou non d'un climatiseur influe peu sur les prix, bien qu'ils soient absent dans les maisons à pris tfaible."
   ]
  },
  {
   "cell_type": "code",
   "execution_count": 73,
   "metadata": {},
   "outputs": [
    {
     "data": {
      "image/png": "[encoded data removed]",
      "text/plain": [
       "<matplotlib.figure.Figure at 0x1def5733cc0>"
      ]
     },
     "metadata": {},
     "output_type": "display_data"
    }
   ],
   "source": [
    "bar_chart(\"NbTotChambres\")"
   ]
  },
  {
   "cell_type": "code",
   "execution_count": 74,
   "metadata": {},
   "outputs": [],
   "source": [
    "#bar_chart(\"RoutePavee\")\n",
    "# certaines maisons à prix faibles et tfaible ne sont pas pavées."
   ]
  },
  {
   "cell_type": "code",
   "execution_count": 75,
   "metadata": {},
   "outputs": [
    {
     "data": {
      "image/png": "[encoded data removed]",
      "text/plain": [
       "<matplotlib.figure.Figure at 0x1def4e1f710>"
      ]
     },
     "metadata": {},
     "output_type": "display_data"
    }
   ],
   "source": [
    "bar_chart(\"QualiteCloture\")"
   ]
  },
  {
   "cell_type": "raw",
   "metadata": {},
   "source": []
  },
  {
   "cell_type": "code",
   "execution_count": 76,
   "metadata": {},
   "outputs": [
    {
     "data": {
      "image/png": "[encoded data removed]",
      "text/plain": [
       "<matplotlib.figure.Figure at 0x1def5ae17b8>"
      ]
     },
     "metadata": {},
     "output_type": "display_data"
    }
   ],
   "source": [
    "bar_chart(\"AnneeVente\")"
   ]
  },
  {
   "cell_type": "code",
   "execution_count": null,
   "metadata": {},
   "outputs": [],
   "source": []
  }
 ],
 "metadata": {
  "kernelspec": {
   "display_name": "Python 3",
   "language": "python",
   "name": "python3"
  },
  "language_info": {
   "codemirror_mode": {
    "name": "ipython",
    "version": 3
   },
   "file_extension": ".py",
   "mimetype": "text/x-python",
   "name": "python",
   "nbconvert_exporter": "python",
   "pygments_lexer": "ipython3",
   "version": "3.6.4"
  }
 },
 "nbformat": 4,
 "nbformat_minor": 2
}
